{
 "cells": [
  {
   "cell_type": "code",
   "execution_count": 1,
   "id": "bf2d7261",
   "metadata": {},
   "outputs": [],
   "source": [
    "# Data Viz pakages\n",
    "import matplotlib.pyplot as plt\n",
    "import seaborn as sns\n",
    "# EDA packages\n",
    "import pandas as pd\n"
   ]
  },
  {
   "cell_type": "code",
   "execution_count": 2,
   "id": "077cce7a",
   "metadata": {},
   "outputs": [],
   "source": [
    "#load text cleaning package\\n\",\n",
    "import neattext as nfx"
   ]
  },
  {
   "cell_type": "code",
   "execution_count": 3,
   "id": "62d59cf8",
   "metadata": {},
   "outputs": [],
   "source": [
    "import warnings"
   ]
  },
  {
   "cell_type": "code",
   "execution_count": 4,
   "id": "1937892f",
   "metadata": {},
   "outputs": [],
   "source": [
    "#load data\n",
    "df = pd.read_csv(\"C:\\\\Users\\\\matif\\\\Downloads\\\\covid19_tweets.csv\")"
   ]
  },
  {
   "cell_type": "code",
   "execution_count": 5,
   "id": "d858eab5",
   "metadata": {},
   "outputs": [],
   "source": [
    "df.dropna(inplace=True)"
   ]
  },
  {
   "cell_type": "code",
   "execution_count": 6,
   "id": "aa923e5d",
   "metadata": {},
   "outputs": [],
   "source": [
    "#df.isnull().sum()"
   ]
  },
  {
   "cell_type": "code",
   "execution_count": 7,
   "id": "4b2262ba",
   "metadata": {},
   "outputs": [],
   "source": [
    "df=df.apply(lambda x: x.astype(str).str.lower()) # the whole dataset is converted into lowercase()"
   ]
  },
  {
   "cell_type": "code",
   "execution_count": 8,
   "id": "fc03021a",
   "metadata": {},
   "outputs": [],
   "source": [
    "#dir(nfx)"
   ]
  },
  {
   "cell_type": "code",
   "execution_count": 9,
   "id": "ebd7ebe8",
   "metadata": {},
   "outputs": [],
   "source": [
    "def get_clean_data_column (new_column_name , column_name ):\n",
    "    df[new_column_name] = df[column_name].apply(nfx.remove_emojis)\n",
    "    df[new_column_name] = df[new_column_name].apply(nfx.remove_numbers)\n",
    "    df[new_column_name] = df[new_column_name].apply(nfx.remove_punctuations)\n",
    "    df[new_column_name] = df[new_column_name].apply(nfx.remove_special_characters)\n",
    "    df[new_column_name] = df[new_column_name].apply(nfx.remove_multiple_spaces)\n",
    "    df[new_column_name] = df[new_column_name].apply(nfx.remove_stopwords)\n",
    "    df[new_column_name] = df[new_column_name].apply(nfx.remove_urls)\n",
    "    df[new_column_name] = df[new_column_name].apply(nfx.remove_visacard_addr)\n",
    "    df[new_column_name] = df[new_column_name].apply(nfx.remove_terms_in_bracket)\n",
    "    df[new_column_name] = df[new_column_name].apply(nfx.remove_street_address)\n",
    "    df[new_column_name] = df[new_column_name].apply(nfx.remove_puncts)\n",
    "    df[new_column_name] = df[new_column_name].apply(nfx.remove_postoffice_box)\n",
    "    df[new_column_name] = df[new_column_name].apply(nfx.remove_phone_numbers)\n",
    "    df[new_column_name] = df[new_column_name].apply(nfx.remove_html_tags)\n",
    "    df[new_column_name] = df[new_column_name].apply(nfx.remove_currency_symbols)\n",
    "    return df[new_column_name]"
   ]
  },
  {
   "cell_type": "code",
   "execution_count": 10,
   "id": "134fe5b4",
   "metadata": {},
   "outputs": [],
   "source": [
    "dict_names = {'cleaning_user_name':'user_name',\n",
    "              'cleaning_user_location':'user_location',\n",
    "              'cleaning_user_description':'user_description',\n",
    "              'cleaning_text':'text',\n",
    "              'cleaning_hashtags':'hashtags',\n",
    "              'cleaning_source':'source'}\n",
    "#this the loop in dictionary \n",
    "for i ,j in dict_names.items():\n",
    "    #here i m call my custom function to clean the dataset\n",
    "    result = get_clean_data_column(i,j)"
   ]
  },
  {
   "cell_type": "code",
   "execution_count": 84,
   "id": "81d6d725",
   "metadata": {},
   "outputs": [
    {
     "data": {
      "text/html": [
       "<div>\n",
       "<style scoped>\n",
       "    .dataframe tbody tr th:only-of-type {\n",
       "        vertical-align: middle;\n",
       "    }\n",
       "\n",
       "    .dataframe tbody tr th {\n",
       "        vertical-align: top;\n",
       "    }\n",
       "\n",
       "    .dataframe thead th {\n",
       "        text-align: right;\n",
       "    }\n",
       "</style>\n",
       "<table border=\"1\" class=\"dataframe\">\n",
       "  <thead>\n",
       "    <tr style=\"text-align: right;\">\n",
       "      <th></th>\n",
       "      <th>user_name</th>\n",
       "      <th>cleaning_user_name</th>\n",
       "    </tr>\n",
       "  </thead>\n",
       "  <tbody>\n",
       "    <tr>\n",
       "      <th>2</th>\n",
       "      <td>time4fisticuffs</td>\n",
       "      <td>timefisticuffs</td>\n",
       "    </tr>\n",
       "    <tr>\n",
       "      <th>3</th>\n",
       "      <td>ethel mertz</td>\n",
       "      <td>ethel mertz</td>\n",
       "    </tr>\n",
       "  </tbody>\n",
       "</table>\n",
       "</div>"
      ],
      "text/plain": [
       "         user_name cleaning_user_name\n",
       "2  time4fisticuffs     timefisticuffs\n",
       "3      ethel mertz        ethel mertz"
      ]
     },
     "execution_count": 84,
     "metadata": {},
     "output_type": "execute_result"
    }
   ],
   "source": [
    "df[['user_name','cleaning_user_name']].head(2)"
   ]
  },
  {
   "cell_type": "code",
   "execution_count": 12,
   "id": "e9aac039",
   "metadata": {},
   "outputs": [],
   "source": [
    "#df[['user_location','cleaning_user_location']].head(2)"
   ]
  },
  {
   "cell_type": "code",
   "execution_count": 13,
   "id": "35b9a4d6",
   "metadata": {},
   "outputs": [],
   "source": [
    "#df[['user_description','cleaning_user_description']].head(2) "
   ]
  },
  {
   "cell_type": "code",
   "execution_count": 14,
   "id": "45103064",
   "metadata": {},
   "outputs": [],
   "source": [
    "#df[['text','cleaning_text']].head(2) "
   ]
  },
  {
   "cell_type": "code",
   "execution_count": 15,
   "id": "47be10b7",
   "metadata": {},
   "outputs": [],
   "source": [
    "#df[['hashtags','cleaning_hashtags']].head(2) "
   ]
  },
  {
   "cell_type": "code",
   "execution_count": 16,
   "id": "a90ce99f",
   "metadata": {},
   "outputs": [],
   "source": [
    "#df[['source','cleaning_source']].head(2) "
   ]
  },
  {
   "cell_type": "code",
   "execution_count": 21,
   "id": "382fb06e",
   "metadata": {},
   "outputs": [],
   "source": [
    "'''here i made a function to take all columns than remove\n",
    "stopwords from that further convert them into list'''\n",
    "def get_clean_list (new_column_name):\n",
    "    clean_list = df[new_column_name].apply(nfx.remove_stopwords).tolist()\n",
    "    return clean_list"
   ]
  },
  {
   "cell_type": "code",
   "execution_count": 22,
   "id": "cda24201",
   "metadata": {},
   "outputs": [],
   "source": [
    "# this is list in which each column is mentioned \n",
    "\n",
    "columns_list = ['cleaning_user_name',\n",
    "                'cleaning_user_location',\n",
    "                'cleaning_user_description',\n",
    "                'cleaning_text',\n",
    "                'cleaning_hashtags',\n",
    "                'cleaning_source']\n",
    "\n",
    "# this is the for loop in columns_list\n",
    "\n",
    "for column_list in columns_list:\n",
    "\n",
    "    # here i give some conditions for each columns \n",
    "    if column_list == 'cleaning_user_name':\n",
    "        # here i call function get_clean_list in different variables\n",
    "        clean_user_name_result1 = get_clean_list(column_list)\n",
    "    elif column_list == 'cleaning_user_location':\n",
    "        clean_user_loaction_result1 = get_clean_list(column_list)\n",
    "    elif column_list == 'cleaning_user_description':\n",
    "        clean_user_description_result1 = get_clean_list(column_list)\n",
    "    elif column_list == 'cleaning_text':\n",
    "        clean_text_result1 = get_clean_list(column_list)\n",
    "    elif column_list == 'cleaning_hashtags':\n",
    "        clean_hashtags_result1 = get_clean_list(column_list)\n",
    "    elif column_list == 'cleaning_source':\n",
    "        clean_source_result1 = get_clean_list(column_list)"
   ]
  },
  {
   "cell_type": "code",
   "execution_count": 140,
   "id": "355edbe2",
   "metadata": {},
   "outputs": [],
   "source": [
    "#clean_user_name_result1"
   ]
  },
  {
   "cell_type": "code",
   "execution_count": 35,
   "id": "1fa42efa",
   "metadata": {},
   "outputs": [],
   "source": [
    "#clean_user_loaction_result1"
   ]
  },
  {
   "cell_type": "code",
   "execution_count": 36,
   "id": "9687195f",
   "metadata": {},
   "outputs": [],
   "source": [
    "#clean_user_description_result1"
   ]
  },
  {
   "cell_type": "code",
   "execution_count": 37,
   "id": "a0cd4181",
   "metadata": {},
   "outputs": [],
   "source": [
    "#clean_text_result1"
   ]
  },
  {
   "cell_type": "code",
   "execution_count": 38,
   "id": "83deb47b",
   "metadata": {},
   "outputs": [],
   "source": [
    "#clean_hashtags_result1"
   ]
  },
  {
   "cell_type": "code",
   "execution_count": 39,
   "id": "e38aa9fc",
   "metadata": {},
   "outputs": [],
   "source": [
    "#clean_source_result1"
   ]
  },
  {
   "cell_type": "code",
   "execution_count": 107,
   "id": "5cb1761b",
   "metadata": {},
   "outputs": [],
   "source": [
    "def get_token (function_name):\n",
    "    # here i made nested for loop to get token by splitting each sentence and save them in the variable\n",
    "    tokens = [token for line in function_name for token in line.split()]\n",
    "    return tokens"
   ]
  },
  {
   "cell_type": "code",
   "execution_count": 108,
   "id": "c098e613",
   "metadata": {},
   "outputs": [],
   "source": [
    "# this is list in which each column is mentioned \n",
    "columns_list = ['cleaning_user_name',\n",
    "                'cleaning_user_location',\n",
    "                'cleaning_user_description',\n",
    "                'cleaning_text',\n",
    "                'cleaning_hashtags',\n",
    "                'cleaning_source']\n",
    "# this is the for loop in columns_list\n",
    "for column_list in columns_list:\n",
    "    # here i give some conditions for each columns \n",
    "    if column_list == 'cleaning_user_name':\n",
    "        # here i call function get_token in different variables\n",
    "        clean_user_token_result2 =  get_token(get_clean_list(column_list))\n",
    "    elif column_list == 'cleaning_user_location':\n",
    "        clean_user_location_token_result2 = get_token(get_clean_list(column_list))\n",
    "    elif column_list == 'cleaning_user_description':\n",
    "        clean_user_description_token_result2 = get_token(get_clean_list(column_list))\n",
    "    elif column_list == 'cleaning_text':\n",
    "        clean_text_token_result2 = get_token(get_clean_list(column_list))\n",
    "    elif column_list == 'cleaning_hashtags':\n",
    "        clean_hashtags_token_result2 = get_token(get_clean_list(column_list))\n",
    "    elif column_list == 'cleaning_source':\n",
    "        clean_source_token_result2 = get_token(get_clean_list(column_list))"
   ]
  },
  {
   "cell_type": "code",
   "execution_count": 141,
   "id": "03fc5023",
   "metadata": {},
   "outputs": [],
   "source": [
    "#clean_user_token_result2"
   ]
  },
  {
   "cell_type": "code",
   "execution_count": 46,
   "id": "74d6eb9c",
   "metadata": {},
   "outputs": [],
   "source": [
    "#clean_user_location_token_result2"
   ]
  },
  {
   "cell_type": "code",
   "execution_count": 47,
   "id": "881b18a5",
   "metadata": {},
   "outputs": [],
   "source": [
    "#clean_user_description_token_result2"
   ]
  },
  {
   "cell_type": "code",
   "execution_count": 48,
   "id": "29a1360c",
   "metadata": {},
   "outputs": [],
   "source": [
    "#clean_text_token_result2"
   ]
  },
  {
   "cell_type": "code",
   "execution_count": 49,
   "id": "dcd98c97",
   "metadata": {},
   "outputs": [],
   "source": [
    "#clean_hashtags_token_result2"
   ]
  },
  {
   "cell_type": "code",
   "execution_count": 50,
   "id": "2bb95b1a",
   "metadata": {},
   "outputs": [],
   "source": [
    "#clean_source_token_result2"
   ]
  },
  {
   "cell_type": "code",
   "execution_count": 85,
   "id": "53e29b04",
   "metadata": {},
   "outputs": [],
   "source": [
    "import nltk"
   ]
  },
  {
   "cell_type": "code",
   "execution_count": 86,
   "id": "e1f347ae",
   "metadata": {},
   "outputs": [],
   "source": [
    "from nltk.stem import WordNetLemmatizer"
   ]
  },
  {
   "cell_type": "code",
   "execution_count": 89,
   "id": "8243bf9d",
   "metadata": {},
   "outputs": [
    {
     "name": "stderr",
     "output_type": "stream",
     "text": [
      "[nltk_data] Downloading package punkt to\n",
      "[nltk_data]     C:\\Users\\matif\\AppData\\Roaming\\nltk_data...\n",
      "[nltk_data]   Unzipping tokenizers\\punkt.zip.\n"
     ]
    },
    {
     "data": {
      "text/plain": [
       "True"
      ]
     },
     "execution_count": 89,
     "metadata": {},
     "output_type": "execute_result"
    }
   ],
   "source": [
    "nltk.download('punkt')"
   ]
  },
  {
   "cell_type": "code",
   "execution_count": 87,
   "id": "d7d474bb",
   "metadata": {},
   "outputs": [],
   "source": [
    "lemmatizer = WordNetLemmatizer()\n",
    "def get_lemmatization(input_str_name):\n",
    "    input_str =input_str_name \n",
    "    for i in input_str:\n",
    "        a = nltk.word_tokenize(i)\n",
    "        for word in a:\n",
    "            print(lemmatizer.lemmatize(word))"
   ]
  },
  {
   "cell_type": "raw",
   "id": "9f300f42",
   "metadata": {},
   "source": [
    "get_lemmatization(clean_user_token_result2)"
   ]
  },
  {
   "cell_type": "code",
   "execution_count": 51,
   "id": "b66c130c",
   "metadata": {},
   "outputs": [],
   "source": [
    "from collections import Counter"
   ]
  },
  {
   "cell_type": "code",
   "execution_count": 133,
   "id": "a2a2eaa0",
   "metadata": {},
   "outputs": [],
   "source": [
    "def get_frequence_of_token(tokens,nums=30):\n",
    "    word_tokens = Counter(tokens)\n",
    "    most_common = word_tokens.most_common(nums)\n",
    "    most_common_info = dict (most_common)\n",
    "    return most_common_info"
   ]
  },
  {
   "cell_type": "code",
   "execution_count": 134,
   "id": "23af7c78",
   "metadata": {},
   "outputs": [],
   "source": [
    "#get_frequence_of_token(clean_user_token_result2)"
   ]
  },
  {
   "cell_type": "code",
   "execution_count": 136,
   "id": "6fa7cce3",
   "metadata": {},
   "outputs": [],
   "source": [
    "columns_list = ['cleaning_user_name',\n",
    "                'cleaning_user_location',\n",
    "                'cleaning_user_description',\n",
    "                'cleaning_text',\n",
    "                'cleaning_hashtags',\n",
    "                'cleaning_source']\n",
    "\n",
    "for column_list in columns_list:\n",
    "    if column_list == 'cleaning_user_name':\n",
    "        clean_user_name_frequence_token_result3 = get_frequence_of_token(get_token(get_clean_list('cleaning_user_name')))\n",
    "    elif column_list == 'cleaning_user_location':\n",
    "        clean_user_loaction_frequence_token_result3 = get_frequence_of_token(get_token(get_clean_list('cleaning_user_location')))\n",
    "    elif column_list == 'cleaning_user_description':\n",
    "        clean_user_description_frequence_token_result3 = get_frequence_of_token(get_token(get_clean_list('cleaning_user_description')))\n",
    "    elif column_list == 'cleaning_text':\n",
    "        clean_text_frequence_token_result3 = get_frequence_of_token(get_token(get_clean_list('cleaning_text')))\n",
    "    elif column_list == 'cleaning_hashtags':\n",
    "        clean_hashtags_frequence_token_result3 = get_frequence_of_token(get_token(get_clean_list('cleaning_hashtags')))\n",
    "    elif column_list == 'cleaning_source':\n",
    "        clean_source_frequence_token_result3 = get_frequence_of_token(get_token(get_clean_list('cleaning_source')))"
   ]
  },
  {
   "cell_type": "code",
   "execution_count": 142,
   "id": "e7f4e4ea",
   "metadata": {},
   "outputs": [],
   "source": [
    "#clean_user_name_frequence_token_result3"
   ]
  },
  {
   "cell_type": "code",
   "execution_count": 138,
   "id": "d5f73fb1",
   "metadata": {},
   "outputs": [],
   "source": [
    "def get_most_common (token):\n",
    "    most_common = get_token(token)\n",
    "    user_info_df = pd.DataFrame(most_common.items(),columns=['words','score'])\n",
    "    return user_info_df"
   ]
  },
  {
   "cell_type": "code",
   "execution_count": 143,
   "id": "623c729c",
   "metadata": {},
   "outputs": [],
   "source": [
    "#get_most_common(a)"
   ]
  },
  {
   "cell_type": "code",
   "execution_count": 144,
   "id": "ab15ada0",
   "metadata": {},
   "outputs": [],
   "source": [
    "#get_most_common(clean_user_name_frequence_token_result3)"
   ]
  },
  {
   "cell_type": "code",
   "execution_count": 126,
   "id": "0c6293e7",
   "metadata": {},
   "outputs": [],
   "source": [
    "import datetime"
   ]
  },
  {
   "cell_type": "code",
   "execution_count": 127,
   "id": "2eb52297",
   "metadata": {},
   "outputs": [],
   "source": [
    "def get_time_date(column_name,new_column_name_year,\n",
    "                  new_column_name_month,\n",
    "                  new_column_name_day,\n",
    "                  new_column_name_hour,\n",
    "                  new_column_name_minute,\n",
    "                  new_column_name_second):\n",
    "    \n",
    "    #it is in object type to convert into datetime \n",
    "    df[column_name] = pd.to_datetime(df[column_name])\n",
    "    df[new_column_name_year]=df[column_name].dt.year\n",
    "    df[new_column_name_month]=df[column_name].dt.month\n",
    "    df[new_column_name_day]=df[column_name].dt.day\n",
    "    df[new_column_name_hour]=df[column_name].dt.hour\n",
    "    df[new_column_name_minute]=df[column_name].dt.minute\n",
    "    df[new_column_name_second]=df[column_name].dt.second"
   ]
  },
  {
   "cell_type": "code",
   "execution_count": 128,
   "id": "d62a40b6",
   "metadata": {},
   "outputs": [],
   "source": [
    "get_time_date(column_name = 'user_created',\n",
    "              new_column_name_year = 'years',\n",
    "              new_column_name_month = 'months',\n",
    "              new_column_name_day = 'days',\n",
    "              new_column_name_hour='hours',\n",
    "              new_column_name_minute='minutes',\n",
    "              new_column_name_second='seconds')"
   ]
  },
  {
   "cell_type": "code",
   "execution_count": 145,
   "id": "986f42c3",
   "metadata": {},
   "outputs": [],
   "source": [
    "#df"
   ]
  },
  {
   "cell_type": "code",
   "execution_count": 59,
   "id": "ce83eecb",
   "metadata": {},
   "outputs": [],
   "source": [
    "from textblob import TextBlob"
   ]
  },
  {
   "cell_type": "code",
   "execution_count": 60,
   "id": "e6a723ad",
   "metadata": {},
   "outputs": [],
   "source": [
    "def get_sentiment(column_id):\n",
    "    blob = TextBlob(column_id)\n",
    "    sentiment_polarity = blob.sentiment.polarity\n",
    "    sentiment_subjectivity = blob.sentiment.subjectivity\n",
    "    if sentiment_polarity > 0:\n",
    "        sentiment_label = 'Positive'\n",
    "    elif sentiment_polarity < 0 :\n",
    "        sentiment_label = 'Negative'\n",
    "    else:\n",
    "        sentiment_label = 'Natural'\n",
    "    result = {'Polarity':sentiment_polarity,\n",
    "            'Subjectivity':sentiment_subjectivity,\n",
    "            'Sentiment':sentiment_label}\n",
    "    return result"
   ]
  },
  {
   "cell_type": "code",
   "execution_count": 61,
   "id": "8d4cdacd",
   "metadata": {},
   "outputs": [],
   "source": [
    "exl = df['cleaning_text'].iloc[0]"
   ]
  },
  {
   "cell_type": "code",
   "execution_count": 62,
   "id": "eba7a52c",
   "metadata": {},
   "outputs": [
    {
     "data": {
      "text/plain": [
       "{'Polarity': 0.0, 'Subjectivity': 0.0, 'Sentiment': 'Natural'}"
      ]
     },
     "execution_count": 62,
     "metadata": {},
     "output_type": "execute_result"
    }
   ],
   "source": [
    "get_sentiment(exl)"
   ]
  },
  {
   "cell_type": "code",
   "execution_count": 63,
   "id": "52177002",
   "metadata": {},
   "outputs": [],
   "source": [
    "def get_sentiment_results(column_mark):\n",
    "    df['sentiment_results'] = df[column_mark].apply(get_sentiment)\n",
    "    return df['sentiment_results']"
   ]
  },
  {
   "cell_type": "code",
   "execution_count": 146,
   "id": "35f2e494",
   "metadata": {},
   "outputs": [],
   "source": [
    "#get_sentiment_results(\"cleaning_text\")"
   ]
  },
  {
   "cell_type": "code",
   "execution_count": 68,
   "id": "0cc89ee4",
   "metadata": {},
   "outputs": [],
   "source": [
    "from pandas.io.json import json_normalize"
   ]
  },
  {
   "cell_type": "code",
   "execution_count": 69,
   "id": "33638476",
   "metadata": {},
   "outputs": [],
   "source": [
    "def get_json_normalize(normalize_colunm_name):\n",
    "    result = pd.json_normalize(df[normalize_colunm_name])\n",
    "    return result"
   ]
  },
  {
   "cell_type": "code",
   "execution_count": 70,
   "id": "30c98a41",
   "metadata": {},
   "outputs": [
    {
     "data": {
      "text/html": [
       "<div>\n",
       "<style scoped>\n",
       "    .dataframe tbody tr th:only-of-type {\n",
       "        vertical-align: middle;\n",
       "    }\n",
       "\n",
       "    .dataframe tbody tr th {\n",
       "        vertical-align: top;\n",
       "    }\n",
       "\n",
       "    .dataframe thead th {\n",
       "        text-align: right;\n",
       "    }\n",
       "</style>\n",
       "<table border=\"1\" class=\"dataframe\">\n",
       "  <thead>\n",
       "    <tr style=\"text-align: right;\">\n",
       "      <th></th>\n",
       "      <th>Polarity</th>\n",
       "      <th>Subjectivity</th>\n",
       "      <th>Sentiment</th>\n",
       "    </tr>\n",
       "  </thead>\n",
       "  <tbody>\n",
       "    <tr>\n",
       "      <th>0</th>\n",
       "      <td>0.000000</td>\n",
       "      <td>0.000000</td>\n",
       "      <td>Natural</td>\n",
       "    </tr>\n",
       "    <tr>\n",
       "      <th>1</th>\n",
       "      <td>0.000000</td>\n",
       "      <td>0.357143</td>\n",
       "      <td>Natural</td>\n",
       "    </tr>\n",
       "    <tr>\n",
       "      <th>2</th>\n",
       "      <td>0.000000</td>\n",
       "      <td>0.000000</td>\n",
       "      <td>Natural</td>\n",
       "    </tr>\n",
       "    <tr>\n",
       "      <th>3</th>\n",
       "      <td>-0.700000</td>\n",
       "      <td>0.666667</td>\n",
       "      <td>Negative</td>\n",
       "    </tr>\n",
       "    <tr>\n",
       "      <th>4</th>\n",
       "      <td>0.050000</td>\n",
       "      <td>0.500000</td>\n",
       "      <td>Positive</td>\n",
       "    </tr>\n",
       "    <tr>\n",
       "      <th>...</th>\n",
       "      <td>...</td>\n",
       "      <td>...</td>\n",
       "      <td>...</td>\n",
       "    </tr>\n",
       "    <tr>\n",
       "      <th>99133</th>\n",
       "      <td>0.000000</td>\n",
       "      <td>0.000000</td>\n",
       "      <td>Natural</td>\n",
       "    </tr>\n",
       "    <tr>\n",
       "      <th>99134</th>\n",
       "      <td>0.000000</td>\n",
       "      <td>0.000000</td>\n",
       "      <td>Natural</td>\n",
       "    </tr>\n",
       "    <tr>\n",
       "      <th>99135</th>\n",
       "      <td>0.200000</td>\n",
       "      <td>0.200000</td>\n",
       "      <td>Positive</td>\n",
       "    </tr>\n",
       "    <tr>\n",
       "      <th>99136</th>\n",
       "      <td>0.800000</td>\n",
       "      <td>0.700000</td>\n",
       "      <td>Positive</td>\n",
       "    </tr>\n",
       "    <tr>\n",
       "      <th>99137</th>\n",
       "      <td>0.144886</td>\n",
       "      <td>0.522727</td>\n",
       "      <td>Positive</td>\n",
       "    </tr>\n",
       "  </tbody>\n",
       "</table>\n",
       "<p>99138 rows × 3 columns</p>\n",
       "</div>"
      ],
      "text/plain": [
       "       Polarity  Subjectivity Sentiment\n",
       "0      0.000000      0.000000   Natural\n",
       "1      0.000000      0.357143   Natural\n",
       "2      0.000000      0.000000   Natural\n",
       "3     -0.700000      0.666667  Negative\n",
       "4      0.050000      0.500000  Positive\n",
       "...         ...           ...       ...\n",
       "99133  0.000000      0.000000   Natural\n",
       "99134  0.000000      0.000000   Natural\n",
       "99135  0.200000      0.200000  Positive\n",
       "99136  0.800000      0.700000  Positive\n",
       "99137  0.144886      0.522727  Positive\n",
       "\n",
       "[99138 rows x 3 columns]"
      ]
     },
     "execution_count": 70,
     "metadata": {},
     "output_type": "execute_result"
    }
   ],
   "source": [
    "get_json_normalize('sentiment_results')"
   ]
  },
  {
   "cell_type": "code",
   "execution_count": 71,
   "id": "58d2adf6",
   "metadata": {},
   "outputs": [],
   "source": [
    "new_df=df[['cleaning_user_name',\n",
    "    'cleaning_user_location',\n",
    "    'cleaning_user_description',\n",
    "    'cleaning_text', \n",
    "    'cleaning_hashtags',\n",
    "    'cleaning_source',\n",
    "           'years',\n",
    "           'months',\n",
    "           'days',\n",
    "           'hours',\n",
    "           'minutes',\n",
    "           'seconds',\n",
    "          'sentiment_results']]"
   ]
  },
  {
   "cell_type": "code",
   "execution_count": 147,
   "id": "921c947d",
   "metadata": {},
   "outputs": [],
   "source": [
    "#new_df"
   ]
  },
  {
   "cell_type": "code",
   "execution_count": 148,
   "id": "39b414f8",
   "metadata": {},
   "outputs": [],
   "source": [
    "#pip install wordcloud"
   ]
  },
  {
   "cell_type": "code",
   "execution_count": null,
   "id": "158c946f",
   "metadata": {},
   "outputs": [],
   "source": [
    "data_dic = {'clean_user_name_most_common_token_result4':'MOST COMMON USER NAME',\n",
    "            'clean_source_most_common_token_result4':'MOST COMMON USER SOURCE',\n",
    "            'clean_user_description_most_common_token_result4':'MOST COMMON USER DESCRIPTION',\n",
    "            'clean_hashtags_most_common_token_result4':'MOST COMMON USER HASHTAGS',\n",
    "            'clean_text_most_common_token_result4':'MOST COMMON USER TEXT'}"
   ]
  },
  {
   "cell_type": "code",
   "execution_count": null,
   "id": "4c10ab42",
   "metadata": {},
   "outputs": [],
   "source": [
    "def get_plot_seabone_graph (data,title):\n",
    "    plt.figure(figsize=(20,10))\n",
    "    plt.xticks(rotation =45)\n",
    "    plt.title(title)\n",
    "    plot_info = sns.barplot(x = 'words' , y = 'score' , data=data_dic)\n",
    "    plt.show()\n",
    "    return plot_info"
   ]
  },
  {
   "cell_type": "code",
   "execution_count": 98,
   "id": "fdff5fbe",
   "metadata": {},
   "outputs": [],
   "source": [
    "from wordcloud import WordCloud"
   ]
  },
  {
   "cell_type": "code",
   "execution_count": 99,
   "id": "5b3e8f75",
   "metadata": {},
   "outputs": [],
   "source": [
    "def plot_wordcloud(tokens):\n",
    "    my_wordcloud = WordCloud().generate(tokens)\n",
    "    plt.imshow(my_wordcloud,interpolation='bilinear')\n",
    "    plt.axis('off')\n",
    "    plt.show()"
   ]
  },
  {
   "cell_type": "code",
   "execution_count": 100,
   "id": "80f417ed",
   "metadata": {},
   "outputs": [],
   "source": [
    "def get_token_name (token_result):\n",
    "    token_name = ' '.join(token_result)\n",
    "    return token_name"
   ]
  },
  {
   "cell_type": "code",
   "execution_count": 103,
   "id": "c5178b77",
   "metadata": {},
   "outputs": [],
   "source": [
    "tokens_list=['clean_source_token_result2',\n",
    "             'clean_hashtags_token_result2',\n",
    "             'clean_text_token_result2',\n",
    "             'clean_user_description_token_result2',\n",
    "             'clean_user_location_token_result2',\n",
    "             'clean_user_token_result2']\n",
    "for token_list in tokens_list:\n",
    "    #print(token_list)\n",
    "    if token_list == 'clean_user_token_result2':\n",
    "        clean_user_wordcloud = get_token_name(clean_user_token_result2)\n",
    "    elif token_list == 'clean_user_location_token_result2':\n",
    "        clean_user_location_wordcloud = get_token_name(clean_user_location_token_result2)\n",
    "    elif token_list == 'clean_user_description_token_result2':\n",
    "        clean_user_description_wordcloud = get_token_name(clean_user_description_token_result2)\n",
    "    elif token_list == 'clean_text_token_result2':\n",
    "        clean_text_wordcloud = get_token_name(clean_text_token_result2)   \n",
    "    elif token_list == 'clean_hashtags_token_result2':\n",
    "        clean_hashtags_wordcloud = get_token_name(clean_hashtags_token_result2)   \n",
    "    elif token_list == 'clean_source_token_result2':\n",
    "        clean_source_wordcloud = get_token_name(clean_source_token_result2)   "
   ]
  },
  {
   "cell_type": "code",
   "execution_count": 149,
   "id": "d7b02ebb",
   "metadata": {},
   "outputs": [],
   "source": [
    "#plot_wordcloud(clean_user_wordcloud)"
   ]
  }
 ],
 "metadata": {
  "kernelspec": {
   "display_name": "Python 3 (ipykernel)",
   "language": "python",
   "name": "python3"
  },
  "language_info": {
   "codemirror_mode": {
    "name": "ipython",
    "version": 3
   },
   "file_extension": ".py",
   "mimetype": "text/x-python",
   "name": "python",
   "nbconvert_exporter": "python",
   "pygments_lexer": "ipython3",
   "version": "3.9.12"
  }
 },
 "nbformat": 4,
 "nbformat_minor": 5
}
