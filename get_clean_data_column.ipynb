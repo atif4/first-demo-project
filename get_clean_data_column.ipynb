{
 "cells": [
  {
   "cell_type": "code",
   "execution_count": 1,
   "id": "3e96e48c",
   "metadata": {},
   "outputs": [],
   "source": [
    "# Data Viz pakages\n",
    "import matplotlib.pyplot as plt\n",
    "import seaborn as sns\n",
    "# EDA packages\n",
    "import pandas as pd\n"
   ]
  },
  {
   "cell_type": "code",
   "execution_count": 15,
   "id": "6d275323",
   "metadata": {},
   "outputs": [],
   "source": [
    "#load text cleaning package\\n\",\n",
    "import neattext as nfx"
   ]
  },
  {
   "cell_type": "code",
   "execution_count": 12,
   "id": "ee48e8f9",
   "metadata": {},
   "outputs": [],
   "source": [
    "import warnings"
   ]
  },
  {
   "cell_type": "code",
   "execution_count": 29,
   "id": "7e8dee9d",
   "metadata": {},
   "outputs": [],
   "source": [
    "#load data\n",
    "df = pd.read_csv(\"C:\\\\Users\\\\matif\\\\Downloads\\\\covid19_tweets.csv\")"
   ]
  },
  {
   "cell_type": "code",
   "execution_count": 31,
   "id": "7247b65a",
   "metadata": {},
   "outputs": [],
   "source": [
    "df.dropna(inplace=True)"
   ]
  },
  {
   "cell_type": "code",
   "execution_count": 52,
   "id": "22794b2d",
   "metadata": {},
   "outputs": [],
   "source": [
    "#df.isnull().sum()"
   ]
  },
  {
   "cell_type": "code",
   "execution_count": 33,
   "id": "c7e88f65",
   "metadata": {},
   "outputs": [],
   "source": [
    "df=df.apply(lambda x: x.astype(str).str.lower()) # the whole dataset is converted into lowercase()"
   ]
  },
  {
   "cell_type": "code",
   "execution_count": 51,
   "id": "3db01817",
   "metadata": {},
   "outputs": [],
   "source": [
    "#dir(nfx)"
   ]
  },
  {
   "cell_type": "code",
   "execution_count": 35,
   "id": "ebd7ebe8",
   "metadata": {},
   "outputs": [],
   "source": [
    "def get_clean_data_column (new_column_name , column_name ):\n",
    "    df[new_column_name] = df[column_name].apply(nfx.remove_emojis)\n",
    "    df[new_column_name] = df[new_column_name].apply(nfx.remove_numbers)\n",
    "    df[new_column_name] = df[new_column_name].apply(nfx.remove_punctuations)\n",
    "    df[new_column_name] = df[new_column_name].apply(nfx.remove_special_characters)\n",
    "    df[new_column_name] = df[new_column_name].apply(nfx.remove_multiple_spaces)\n",
    "    df[new_column_name] = df[new_column_name].apply(nfx.remove_stopwords)\n",
    "    df[new_column_name] = df[new_column_name].apply(nfx.remove_urls)\n",
    "    df[new_column_name] = df[new_column_name].apply(nfx.remove_visacard_addr)\n",
    "    df[new_column_name] = df[new_column_name].apply(nfx.remove_terms_in_bracket)\n",
    "    df[new_column_name] = df[new_column_name].apply(nfx.remove_street_address)\n",
    "    df[new_column_name] = df[new_column_name].apply(nfx.remove_puncts)\n",
    "    df[new_column_name] = df[new_column_name].apply(nfx.remove_postoffice_box)\n",
    "    df[new_column_name] = df[new_column_name].apply(nfx.remove_phone_numbers)\n",
    "    df[new_column_name] = df[new_column_name].apply(nfx.remove_html_tags)\n",
    "    df[new_column_name] = df[new_column_name].apply(nfx.remove_currency_symbols)\n",
    "    return df[new_column_name]"
   ]
  },
  {
   "cell_type": "code",
   "execution_count": 36,
   "id": "134fe5b4",
   "metadata": {},
   "outputs": [],
   "source": [
    "dict_names = {'cleaning_user_name':'user_name',\n",
    "              'cleaning_user_location':'user_location',\n",
    "              'cleaning_user_description':'user_description',\n",
    "              'cleaning_text':'text',\n",
    "              'cleaning_hashtags':'hashtags',\n",
    "              'cleaning_source':'source'}\n",
    "#this the loop in dictionary \n",
    "for i ,j in dict_names.items():\n",
    "    #here i m call my custom function to clean the dataset\n",
    "    result = get_clean_data_column(i,j)"
   ]
  },
  {
   "cell_type": "code",
   "execution_count": 53,
   "id": "81d6d725",
   "metadata": {},
   "outputs": [
    {
     "data": {
      "text/html": [
       "<div>\n",
       "<style scoped>\n",
       "    .dataframe tbody tr th:only-of-type {\n",
       "        vertical-align: middle;\n",
       "    }\n",
       "\n",
       "    .dataframe tbody tr th {\n",
       "        vertical-align: top;\n",
       "    }\n",
       "\n",
       "    .dataframe thead th {\n",
       "        text-align: right;\n",
       "    }\n",
       "</style>\n",
       "<table border=\"1\" class=\"dataframe\">\n",
       "  <thead>\n",
       "    <tr style=\"text-align: right;\">\n",
       "      <th></th>\n",
       "      <th>user_name</th>\n",
       "      <th>cleaning_user_name</th>\n",
       "    </tr>\n",
       "  </thead>\n",
       "  <tbody>\n",
       "    <tr>\n",
       "      <th>2</th>\n",
       "      <td>time4fisticuffs</td>\n",
       "      <td>timefisticuffs</td>\n",
       "    </tr>\n",
       "    <tr>\n",
       "      <th>3</th>\n",
       "      <td>ethel mertz</td>\n",
       "      <td>ethel mertz</td>\n",
       "    </tr>\n",
       "  </tbody>\n",
       "</table>\n",
       "</div>"
      ],
      "text/plain": [
       "         user_name cleaning_user_name\n",
       "2  time4fisticuffs     timefisticuffs\n",
       "3      ethel mertz        ethel mertz"
      ]
     },
     "execution_count": 53,
     "metadata": {},
     "output_type": "execute_result"
    }
   ],
   "source": [
    "df[['user_name','cleaning_user_name']].head(2)"
   ]
  },
  {
   "cell_type": "code",
   "execution_count": 54,
   "id": "65953463",
   "metadata": {},
   "outputs": [
    {
     "data": {
      "text/html": [
       "<div>\n",
       "<style scoped>\n",
       "    .dataframe tbody tr th:only-of-type {\n",
       "        vertical-align: middle;\n",
       "    }\n",
       "\n",
       "    .dataframe tbody tr th {\n",
       "        vertical-align: top;\n",
       "    }\n",
       "\n",
       "    .dataframe thead th {\n",
       "        text-align: right;\n",
       "    }\n",
       "</style>\n",
       "<table border=\"1\" class=\"dataframe\">\n",
       "  <thead>\n",
       "    <tr style=\"text-align: right;\">\n",
       "      <th></th>\n",
       "      <th>user_location</th>\n",
       "      <th>cleaning_user_location</th>\n",
       "    </tr>\n",
       "  </thead>\n",
       "  <tbody>\n",
       "    <tr>\n",
       "      <th>2</th>\n",
       "      <td>pewee valley, ky</td>\n",
       "      <td>pewee valley ky</td>\n",
       "    </tr>\n",
       "    <tr>\n",
       "      <th>3</th>\n",
       "      <td>stuck in the middle</td>\n",
       "      <td>stuck middle</td>\n",
       "    </tr>\n",
       "  </tbody>\n",
       "</table>\n",
       "</div>"
      ],
      "text/plain": [
       "          user_location cleaning_user_location\n",
       "2      pewee valley, ky        pewee valley ky\n",
       "3  stuck in the middle            stuck middle"
      ]
     },
     "execution_count": 54,
     "metadata": {},
     "output_type": "execute_result"
    }
   ],
   "source": [
    "df[['user_location','cleaning_user_location']].head(2)"
   ]
  },
  {
   "cell_type": "code",
   "execution_count": 55,
   "id": "c1d7566e",
   "metadata": {},
   "outputs": [
    {
     "data": {
      "text/html": [
       "<div>\n",
       "<style scoped>\n",
       "    .dataframe tbody tr th:only-of-type {\n",
       "        vertical-align: middle;\n",
       "    }\n",
       "\n",
       "    .dataframe tbody tr th {\n",
       "        vertical-align: top;\n",
       "    }\n",
       "\n",
       "    .dataframe thead th {\n",
       "        text-align: right;\n",
       "    }\n",
       "</style>\n",
       "<table border=\"1\" class=\"dataframe\">\n",
       "  <thead>\n",
       "    <tr style=\"text-align: right;\">\n",
       "      <th></th>\n",
       "      <th>user_description</th>\n",
       "      <th>cleaning_user_description</th>\n",
       "    </tr>\n",
       "  </thead>\n",
       "  <tbody>\n",
       "    <tr>\n",
       "      <th>2</th>\n",
       "      <td>#christian #catholic #conservative #reagan #re...</td>\n",
       "      <td>christian catholic conservative reagan republi...</td>\n",
       "    </tr>\n",
       "    <tr>\n",
       "      <th>3</th>\n",
       "      <td>#browns #indians #clevelandproud #[]_[] #cavs ...</td>\n",
       "      <td>browns indians clevelandproud cavs resist</td>\n",
       "    </tr>\n",
       "  </tbody>\n",
       "</table>\n",
       "</div>"
      ],
      "text/plain": [
       "                                    user_description  \\\n",
       "2  #christian #catholic #conservative #reagan #re...   \n",
       "3  #browns #indians #clevelandproud #[]_[] #cavs ...   \n",
       "\n",
       "                           cleaning_user_description  \n",
       "2  christian catholic conservative reagan republi...  \n",
       "3          browns indians clevelandproud cavs resist  "
      ]
     },
     "execution_count": 55,
     "metadata": {},
     "output_type": "execute_result"
    }
   ],
   "source": [
    "df[['user_description','cleaning_user_description']].head(2) "
   ]
  },
  {
   "cell_type": "code",
   "execution_count": 56,
   "id": "1acdf8db",
   "metadata": {},
   "outputs": [
    {
     "data": {
      "text/html": [
       "<div>\n",
       "<style scoped>\n",
       "    .dataframe tbody tr th:only-of-type {\n",
       "        vertical-align: middle;\n",
       "    }\n",
       "\n",
       "    .dataframe tbody tr th {\n",
       "        vertical-align: top;\n",
       "    }\n",
       "\n",
       "    .dataframe thead th {\n",
       "        text-align: right;\n",
       "    }\n",
       "</style>\n",
       "<table border=\"1\" class=\"dataframe\">\n",
       "  <thead>\n",
       "    <tr style=\"text-align: right;\">\n",
       "      <th></th>\n",
       "      <th>text</th>\n",
       "      <th>cleaning_text</th>\n",
       "    </tr>\n",
       "  </thead>\n",
       "  <tbody>\n",
       "    <tr>\n",
       "      <th>2</th>\n",
       "      <td>@diane3443 @wdunlap @realdonaldtrump trump nev...</td>\n",
       "      <td>diane wdunlap realdonaldtrump trump claimed co...</td>\n",
       "    </tr>\n",
       "    <tr>\n",
       "      <th>3</th>\n",
       "      <td>@brookbanktv the one gift #covid19 has give me...</td>\n",
       "      <td>brookbanktv gift covid appreciation simple thi...</td>\n",
       "    </tr>\n",
       "  </tbody>\n",
       "</table>\n",
       "</div>"
      ],
      "text/plain": [
       "                                                text  \\\n",
       "2  @diane3443 @wdunlap @realdonaldtrump trump nev...   \n",
       "3  @brookbanktv the one gift #covid19 has give me...   \n",
       "\n",
       "                                       cleaning_text  \n",
       "2  diane wdunlap realdonaldtrump trump claimed co...  \n",
       "3  brookbanktv gift covid appreciation simple thi...  "
      ]
     },
     "execution_count": 56,
     "metadata": {},
     "output_type": "execute_result"
    }
   ],
   "source": [
    "df[['text','cleaning_text']].head(2) "
   ]
  },
  {
   "cell_type": "code",
   "execution_count": 57,
   "id": "bbd46512",
   "metadata": {},
   "outputs": [
    {
     "data": {
      "text/html": [
       "<div>\n",
       "<style scoped>\n",
       "    .dataframe tbody tr th:only-of-type {\n",
       "        vertical-align: middle;\n",
       "    }\n",
       "\n",
       "    .dataframe tbody tr th {\n",
       "        vertical-align: top;\n",
       "    }\n",
       "\n",
       "    .dataframe thead th {\n",
       "        text-align: right;\n",
       "    }\n",
       "</style>\n",
       "<table border=\"1\" class=\"dataframe\">\n",
       "  <thead>\n",
       "    <tr style=\"text-align: right;\">\n",
       "      <th></th>\n",
       "      <th>hashtags</th>\n",
       "      <th>cleaning_hashtags</th>\n",
       "    </tr>\n",
       "  </thead>\n",
       "  <tbody>\n",
       "    <tr>\n",
       "      <th>2</th>\n",
       "      <td>['covid19']</td>\n",
       "      <td>covid</td>\n",
       "    </tr>\n",
       "    <tr>\n",
       "      <th>3</th>\n",
       "      <td>['covid19']</td>\n",
       "      <td>covid</td>\n",
       "    </tr>\n",
       "  </tbody>\n",
       "</table>\n",
       "</div>"
      ],
      "text/plain": [
       "      hashtags cleaning_hashtags\n",
       "2  ['covid19']             covid\n",
       "3  ['covid19']             covid"
      ]
     },
     "execution_count": 57,
     "metadata": {},
     "output_type": "execute_result"
    }
   ],
   "source": [
    "df[['hashtags','cleaning_hashtags']].head(2) "
   ]
  },
  {
   "cell_type": "code",
   "execution_count": 58,
   "id": "c29d8118",
   "metadata": {},
   "outputs": [
    {
     "data": {
      "text/html": [
       "<div>\n",
       "<style scoped>\n",
       "    .dataframe tbody tr th:only-of-type {\n",
       "        vertical-align: middle;\n",
       "    }\n",
       "\n",
       "    .dataframe tbody tr th {\n",
       "        vertical-align: top;\n",
       "    }\n",
       "\n",
       "    .dataframe thead th {\n",
       "        text-align: right;\n",
       "    }\n",
       "</style>\n",
       "<table border=\"1\" class=\"dataframe\">\n",
       "  <thead>\n",
       "    <tr style=\"text-align: right;\">\n",
       "      <th></th>\n",
       "      <th>source</th>\n",
       "      <th>cleaning_source</th>\n",
       "    </tr>\n",
       "  </thead>\n",
       "  <tbody>\n",
       "    <tr>\n",
       "      <th>2</th>\n",
       "      <td>twitter for android</td>\n",
       "      <td>twitter android</td>\n",
       "    </tr>\n",
       "    <tr>\n",
       "      <th>3</th>\n",
       "      <td>twitter for iphone</td>\n",
       "      <td>twitter iphone</td>\n",
       "    </tr>\n",
       "  </tbody>\n",
       "</table>\n",
       "</div>"
      ],
      "text/plain": [
       "                source  cleaning_source\n",
       "2  twitter for android  twitter android\n",
       "3   twitter for iphone   twitter iphone"
      ]
     },
     "execution_count": 58,
     "metadata": {},
     "output_type": "execute_result"
    }
   ],
   "source": [
    "df[['source','cleaning_source']].head(2) "
   ]
  },
  {
   "cell_type": "code",
   "execution_count": 59,
   "id": "808f574b",
   "metadata": {},
   "outputs": [],
   "source": [
    "new_df=df[['cleaning_user_name',\n",
    "    'cleaning_user_location',\n",
    "    'cleaning_user_description',\n",
    "    'cleaning_text', \n",
    "    'cleaning_hashtags',\n",
    "    'cleaning_source']]"
   ]
  }
 ],
 "metadata": {
  "kernelspec": {
   "display_name": "Python 3 (ipykernel)",
   "language": "python",
   "name": "python3"
  },
  "language_info": {
   "codemirror_mode": {
    "name": "ipython",
    "version": 3
   },
   "file_extension": ".py",
   "mimetype": "text/x-python",
   "name": "python",
   "nbconvert_exporter": "python",
   "pygments_lexer": "ipython3",
   "version": "3.9.12"
  }
 },
 "nbformat": 4,
 "nbformat_minor": 5
}
